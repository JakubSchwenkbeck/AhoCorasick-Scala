{
 "cells": [
  {
   "cell_type": "markdown",
   "id": "59de4543-9105-4e1e-92fd-61202522acde",
   "metadata": {},
   "source": [
    "# Aho-Corasick Algorithm for Pattern Matching\n",
    "The Aho-Corasick algorithm is a powerful search technique used for matching multiple patterns in a given text. It constructs a Trie (prefix tree) and builds failure links to perform efficient string matching. This method allows us to search for all occurrences of a set of keywords in linear time.\n",
    "\n",
    "## Key Concepts:\n",
    "- **Trie Construction**: A tree structure built for all the input patterns (keywords).\n",
    "- **Failure Links**: These links allow us to fall back to previously matched states if a mismatch occurs.\n",
    "In this notebook, we'll break down the algorithm step by step and implement it in Scala."
   ]
  },
  {
   "cell_type": "markdown",
   "id": "fc5eea7a-fb15-4f89-9e83-881f73cabf9a",
   "metadata": {},
   "source": [
    "## Step 1: Define the State Case Class\n",
    "Each node in the Trie corresponds to a state. A state has the following properties:\n",
    "- **ID**: A unique identifier for the state.\n",
    "- **Successors**: A map of characters leading to other states (the transitions).\n",
    "- **EndState**: A boolean flag to mark whether this state corresponds to the end of a keyword.\n",
    "- **Keyword**: An optional field to store the actual keyword when the state is an end state.\n",
    "\n",
    "Let's define a `State` class to represent a node in our Trie."
   ]
  },
  {
   "cell_type": "code",
   "execution_count": 2,
   "id": "273354f0-5ee5-4c94-85bd-d6a06127e257",
   "metadata": {},
   "outputs": [
    {
     "data": {
      "text/plain": [
       "\u001b[32mimport \u001b[39m\u001b[36mscala.collection.mutable.Queue\n",
       "\u001b[39m\n",
       "defined \u001b[32mclass\u001b[39m \u001b[36mState\u001b[39m"
      ]
     },
     "execution_count": 2,
     "metadata": {},
     "output_type": "execute_result"
    }
   ],
   "source": [
    "import scala.collection.mutable.Queue\n",
    "case class State(ID: Int, Successor: Map[String, Int], endState: Boolean, keyword: Option[String] = None)"
   ]
  },
  {
   "cell_type": "markdown",
   "id": "7c07be51-b981-45a1-8214-9ead55a28eb2",
   "metadata": {},
   "source": [
    "## Step 2: Build the Trie\n",
    "The next step in the Aho-Corasick algorithm is constructing the Trie. For each keyword, we traverse the Trie, creating new states as needed, and linking them accordingly. The last state of each keyword will be marked as an 'end state' to signify the completion of a keyword.\n",
    "We will now define a function `buildGraph` to build the Trie from a list of keywords."
   ]
  },
  {
   "cell_type": "code",
   "execution_count": 3,
   "id": "45116417-57ec-4d9a-a011-ce1d095febac",
   "metadata": {},
   "outputs": [
    {
     "data": {
      "text/plain": [
       "defined \u001b[32mfunction\u001b[39m \u001b[36mbuildTrie\u001b[39m"
      ]
     },
     "execution_count": 3,
     "metadata": {},
     "output_type": "execute_result"
    }
   ],
   "source": [
    "def buildTrie(keywords: List[String]): Map[Int, State] = {\n",
    "  var nextID = 0\n",
    "  var states = Map[Int, State](nextID -> State(nextID, Map(), endState = false)) // Root state\n",
    "\n",
    "  for (keyword <- keywords) {\n",
    "    var currentStateID = 0 // Start at the root state\n",
    "\n",
    "    for (char <- keyword) {\n",
    "      val currentState = states(currentStateID)\n",
    "\n",
    "      // Check if there's already a state for this character, else create a new state\n",
    "      val nextStateID = currentState.Successor.getOrElse(char.toString, {\n",
    "        nextID += 1\n",
    "        nextID\n",
    "      })\n",
    "\n",
    "      // Update the current state to include the new successor\n",
    "      states = states.updated(currentStateID, currentState.copy(Successor = currentState.Successor + (char.toString -> nextStateID)))\n",
    "\n",
    "      // Add the new state if it doesn't exist\n",
    "      if (!states.contains(nextStateID)) {\n",
    "        states += nextStateID -> State(nextStateID, Map(), endState = false)\n",
    "      }\n",
    "\n",
    "      // Move to the next state\n",
    "      currentStateID = nextStateID\n",
    "    }\n",
    "\n",
    "    // Mark the last state of the keyword as an end state\n",
    "    val finalState = states(currentStateID)\n",
    "    states += currentStateID -> finalState.copy(endState = true, keyword = Some(keyword))  }\n",
    "\n",
    "  states\n",
    "}"
   ]
  },
  {
   "cell_type": "markdown",
   "id": "918e8be7-263c-420c-bc45-d1bdbb3c082b",
   "metadata": {},
   "source": [
    "## Step 3: Visualize the Trie\n",
    "To better understand the structure of our Trie, we can visualize it. The following function `printGraph` will display each state and its successors, as well as whether it is an end state and which keyword it represents (if applicable)."
   ]
  },
  {
   "cell_type": "code",
   "execution_count": 3,
   "id": "ebac593c-1bcb-4467-bec0-a6385cdeb50d",
   "metadata": {},
   "outputs": [],
   "source": [
    "def printGraph(states: Map[Int, State]): Unit = {\n",
    "  states.foreach { case (id, state) =>\n",
    "    val keywordStr = state.keyword match {\n",
    "      case Some(kw) => s\", Keyword = $kw\"\n",
    "      case None => \"\"\n",
    "    }\n",
    "    println(s\"State $id: Successors = ${state.Successor}, End State = ${state.endState}$keywordStr\")\n",
    "  }\n",
    "\n",
    "var keywords = List(\"hers\", \"she\", \"his\")\n",
    "printGraph(buildTrie(keywords))"
   ]
  },
  {
   "cell_type": "markdown",
   "id": "832808f9-98f9-4556-a01b-9217be496b56",
   "metadata": {},
   "source": [
    "## Step 4: Compute Failure Links\n",
    "Now we need to compute the failure links, which will allow the algorithm to jump to the next possible state when a mismatch occurs. The failure link for a state is a pointer to another state that might lead to a match.\n",
    "We will now define the `computeFail` function to compute these failure links for all states."
   ]
  },
  {
   "cell_type": "code",
   "execution_count": 4,
   "id": "6b28b241-c91a-4aeb-8359-b36fdfd1a242",
   "metadata": {},
   "outputs": [
    {
     "data": {
      "text/plain": [
       "defined \u001b[32mfunction\u001b[39m \u001b[36mcomputeFail\u001b[39m"
      ]
     },
     "execution_count": 4,
     "metadata": {},
     "output_type": "execute_result"
    }
   ],
   "source": [
    "def computeFail(states: Map[Int, State]): Map[Int, Int] = {\n",
    "  // Initialize the fail function, setting all states to fail to the root (state 0)\n",
    "  var fail = Map[Int, Int]().withDefaultValue(0)\n",
    "\n",
    "  // Queue for Breadth-First Search (BFS) traversal of the automaton\n",
    "  val queue = scala.collection.mutable.Queue[Int]()\n",
    "\n",
    "  // Set failure links for root's direct successors\n",
    "  for ((input, stateID) <- states(0).Successor) {\n",
    "    fail += stateID -> 0 // Direct successors of root point back to root\n",
    "    queue.enqueue(stateID) // Enqueue each direct successor for BFS processing\n",
    "  }\n",
    "\n",
    "  // BFS to compute failure links for the remaining states\n",
    "  while (queue.nonEmpty) {\n",
    "    val currentStateID = queue.dequeue() // Dequeue the current state for processing\n",
    "    val currentState = states(currentStateID)\n",
    "\n",
    "    // Process each transition from the current state\n",
    "    for ((input, successorID) <- currentState.Successor) {\n",
    "      queue.enqueue(successorID) // Enqueue the successor state for further processing\n",
    "\n",
    "      // Start fallback resolution from the failure state of the current state\n",
    "      var fallbackID = fail(currentStateID)\n",
    "      while (fallbackID != 0 && !states(fallbackID).Successor.contains(input)) {\n",
    "        fallbackID = fail(fallbackID) // Move to the next fallback state\n",
    "      }\n",
    "\n",
    "      // Update the fail link of the successor state\n",
    "      val fallbackSuccessorID = states(fallbackID).Successor.getOrElse(input, 0)\n",
    "      fail += successorID -> fallbackSuccessorID\n",
    "    }\n",
    "  }\n",
    "\n",
    "  fail // Return the computed failure function as a map\n",
    "}"
   ]
  },
  {
   "cell_type": "markdown",
   "id": "6a23d563-d272-400a-a97f-b47709866da7",
   "metadata": {},
   "source": [
    "## Step 5: Goto Function\n",
    "\n",
    "The Aho-Corasick algorithm relies on an important function called the **Goto function**. This function determines the next state in the Trie based on the current state and the character being processed. If the character leads to an existing state, the Goto function returns the ID of that state. If no such state exists, it follows the failure link and attempts to find a valid state from a fallback point.\n",
    "\n",
    "We will define a `goto` function that takes the current state and the character, and either returns the next state or follows the failure links until a valid state is found.\n",
    "\n",
    "Let's implement the `goto` function.\n"
   ]
  },
  {
   "cell_type": "code",
   "execution_count": 4,
   "id": "4f8f3fe5-7a72-47b1-8b93-d20f92ed6e85",
   "metadata": {},
   "outputs": [],
   "source": [
    "def goto(input: String): Int ={\n",
    "    val currentStateOpt: Option[State] = states.get(currentStateID)\n",
    "\n",
    "    currentStateOpt match {\n",
    "      case Some(currentState) =>\n",
    "        // Need to check if EndState!! --> output\n",
    "        if (currentState.Successor != null) {\n",
    "          // Access the Successor map of the current state\n",
    "          currentState.Successor.get(input) match {\n",
    "            case Some(nextStateID) =>\n",
    "              // Update the current state ID and move to the next state\n",
    "              currentStateID = nextStateID\n",
    "              nextStateID\n",
    "            case None =>\n",
    "              // If there's no matching input in the Successor map, tell PMM to call fail\n",
    "              if (currentStateID == 0) {\n",
    "                0\n",
    "              } else {\n",
    "                -1\n",
    "              }\n",
    "          }\n",
    "        } else {\n",
    "          -1\n",
    "        }\n",
    "    }"
   ]
  },
  {
   "cell_type": "markdown",
   "id": "57329f1b-dfd1-4c1f-a8ff-4c1e920564e5",
   "metadata": {},
   "source": [
    "## Step 6: Connecting the Pieces\n",
    "\n",
    "In this step, we combine all the previously implemented functions into a single class: `FiniteStateMachine`. This class is responsible for handling the search process using the Aho-Corasick algorithm. It utilizes the following components:\n",
    "\n",
    "- **Trie construction** (`buildTrie`): Builds a Trie from the list of keywords.\n",
    "- **Goto function** (`goto`): Determines the next state based on the current state and input character.\n",
    "- **Failure function** (`computeFail`): Computes the fail links for the Trie, allowing the search to continue efficiently even when a mismatch occurs.\n",
    "  \n",
    "The class `FiniteStateMachine` has a method called `PMM()` (Pattern Matching Method) that performs the actual pattern matching of the keywords against the given search text. It tracks the current state in the FSM and, when an end state is reached, it outputs the matched keyword along with the position of the last character.\n",
    "\n",
    "The key functions in this class are:\n",
    "1. `getCurrentStateID`: A getter for the current state ID.\n",
    "2. `PMM`: Performs the pattern matching and returns a list of pairs containing the index of the last character of a matched keyword and the keyword itself.\n",
    "3. `fail`: Retrieves the fail link for the current state.\n",
    "\n",
    "This class is an integrated solution that uses the previous building blocks to search for multiple keywords in a text efficiently.\n",
    "\n",
    "Here is the code for the `FiniteStateMachine`:"
   ]
  },
  {
   "cell_type": "code",
   "execution_count": 4,
   "id": "39544f9f-e3f7-46e7-905b-78b3b24135ae",
   "metadata": {},
   "outputs": [],
   "source": [
    "\n",
    "class FiniteStateMachine(SearchText: String, Keywords: List[String] ) {\n",
    "\n",
    "  private val states: Map[Int, State] = buildTrie(Keywords) // This map represents the finite state machine\n",
    "  private val text: String = SearchText\n",
    "  private val keywords: List[String] = Keywords\n",
    "  private val fails : Map[Int,Int] = computeFail(states)\n",
    "\n",
    "  private var currentStateID: Int = 0 // starting State is by default 0 !\n",
    "\n",
    "  def getCurrentStateID: Int = currentStateID // simple getter for the current ID\n",
    "\n",
    "\n",
    "  /**\n",
    "   *  This function performs the PatternMatching of the keywords in the SearchString\n",
    "   * @return Returns a List of Pairs with Index of the Last char of a keyword and the keyword itself, so List[(Int,String)]\n",
    "   */\n",
    "  def PMM(): List[(Int, String)] =\n",
    "\n",
    "    var Output: List[(Int, String)] = List() // empty list\n",
    "    if( text.nonEmpty && keywords.nonEmpty) {\n",
    "      var charPos: Int = 0\n",
    "      for (index <- 0 until text.length) {\n",
    "\n",
    "        //  println(currentStateID)\n",
    "        charPos += 1\n",
    "        val gotoOutput: Int = goto(text.charAt(index).toString)\n",
    "\n",
    "        if (gotoOutput == -1) {\n",
    "          currentStateID = fail(currentStateID)\n",
    "        } else {\n",
    "          currentStateID = gotoOutput\n",
    "          val currentStateOpt: Option[State] = states.get(currentStateID)\n",
    "          currentStateOpt match {\n",
    "            case Some(currentState) => if (currentState.endState) {\n",
    "              Output = Output :+ (charPos, currentState.keyword.get)\n",
    "\n",
    "\n",
    "            } // Reassign Output with the new list\n",
    "            case None => throw Exception(s\"This State ID: $currentStateID does not exist!\")\n",
    "\n",
    "          }\n",
    "\n",
    "        }\n",
    "      }\n",
    "    }\n",
    "    Output\n",
    "  def goto(input: String): Int ={\n",
    "    val currentStateOpt: Option[State] = states.get(currentStateID)\n",
    "\n",
    "    currentStateOpt match {\n",
    "      case Some(currentState) =>\n",
    "        // Need to check if EndState!! --> output\n",
    "        if (currentState.Successor != null) {\n",
    "          // Access the Successor map of the current state\n",
    "          currentState.Successor.get(input) match {\n",
    "            case Some(nextStateID) =>\n",
    "              // Update the current state ID and move to the next state\n",
    "              currentStateID = nextStateID\n",
    "              nextStateID\n",
    "            case None =>\n",
    "              // If there's no matching input in the Successor map, tell PMM to call fail\n",
    "              if (currentStateID == 0) {\n",
    "                0\n",
    "              } else {\n",
    "                -1\n",
    "              }\n",
    "          }\n",
    "        } else {\n",
    "          -1\n",
    "        }\n",
    "    }\n",
    "    \n",
    "  def fail(stateID: Int): Int = { // actual magic happens in computeFail\n",
    "    fails(stateID) // Return the fail link for the current state\n",
    "  }\n",
    "}"
   ]
  },
  {
   "cell_type": "markdown",
   "id": "49504b98-48ba-4097-b5be-4e010f5cbdbb",
   "metadata": {},
   "source": [
    "## Conclusion\n",
    "The Aho-Corasick algorithm efficiently searches for multiple keywords in a given text. By building a Trie and computing failure links, we can ensure that we do not need to start from the beginning each time a mismatch occurs. This results in faster searches, especially when dealing with large datasets.\n",
    "We have implemented the algorithm step-by-step and tested it with sample data."
   ]
  },
  {
   "cell_type": "code",
   "execution_count": 4,
   "id": "5d7f21d0-f3b5-4b16-a3f5-8f9a1a8b2fb2",
   "metadata": {},
   "outputs": [
    {
     "name": "stderr",
     "output_type": "stream",
     "text": [
      "-- [E006] Not Found Error: cmd5.sc:7:14 ----------------------------------------\n",
      "7 |val fsm = new FiniteStateMachine(searchText, keywords)\n",
      "  |              ^^^^^^^^^^^^^^^^^^\n",
      "  |              Not found: type FiniteStateMachine\n",
      "  |\n",
      "  | longer explanation available when compiling with `-explain`\n",
      "Compilation Failed"
     ]
    }
   ],
   "source": [
    "// Sample keywords and search text\n",
    "val keywords = List(\"he\", \"she\", \"his\", \"hers\")\n",
    "val searchText = \"ushers\"\n",
    "\n",
    "\n",
    "\n",
    "// Create the FiniteStateMachine instance\n",
    "val fsm = new FiniteStateMachine(searchText, keywords)\n",
    "\n",
    "// Run the pattern matching method\n",
    "val result = fsm.PMM()\n",
    "\n",
    "// Print the result\n",
    "println(\"Matched Keywords:\")\n",
    "result.foreach { case (index, keyword) => \n",
    "  println(s\"Keyword: $keyword, Position: $index\")\n",
    "}\n"
   ]
  },
  {
   "cell_type": "code",
   "execution_count": null,
   "id": "92df3890-d5f2-4d4b-8944-0b9a576d9bea",
   "metadata": {},
   "outputs": [],
   "source": []
  },
  {
   "cell_type": "code",
   "execution_count": null,
   "id": "f4c0cb26-eff4-4e24-b21b-8fa0dd54c84f",
   "metadata": {},
   "outputs": [],
   "source": []
  }
 ],
 "metadata": {
  "kernelspec": {
   "display_name": "Scala",
   "language": "scala",
   "name": "scala"
  },
  "language_info": {
   "codemirror_mode": "text/x-scala",
   "file_extension": ".sc",
   "mimetype": "text/x-scala",
   "name": "scala",
   "nbconvert_exporter": "script",
   "version": "2.13.14"
  }
 },
 "nbformat": 4,
 "nbformat_minor": 5
}
