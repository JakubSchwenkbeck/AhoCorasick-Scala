{
 "cells": [
  {
   "cell_type": "markdown",
   "id": "59de4543-9105-4e1e-92fd-61202522acde",
   "metadata": {},
   "source": [
    "# Aho-Corasick Algorithm for Pattern Matching\n",
    "The Aho-Corasick algorithm is a powerful search technique used for matching multiple patterns in a given text. It constructs a Trie (prefix tree) and builds failure links to perform efficient string matching. This method allows us to search for all occurrences of a set of keywords in linear time.\n",
    "\n",
    "## Key Concepts:\n",
    "- **Trie Construction**: A tree structure built for all the input patterns (keywords).\n",
    "- **Failure Links**: These links allow us to fall back to previously matched states if a mismatch occurs.\n",
    "In this notebook, we'll break down the algorithm step by step and implement it in Scala."
   ]
  },
  {
   "cell_type": "markdown",
   "id": "fc5eea7a-fb15-4f89-9e83-881f73cabf9a",
   "metadata": {},
   "source": [
    "## Step 1: Define the State Case Class\n",
    "Each node in the Trie corresponds to a state. A state has the following properties:\n",
    "- **ID**: A unique identifier for the state.\n",
    "- **Successors**: A map of characters leading to other states (the transitions).\n",
    "- **EndState**: A boolean flag to mark whether this state corresponds to the end of a keyword.\n",
    "- **Keyword**: An optional field to store the actual keyword when the state is an end state.\n",
    "\n",
    "Let's define a `State` class to represent a node in our Trie."
   ]
  },
  {
   "cell_type": "code",
   "execution_count": 4,
   "id": "273354f0-5ee5-4c94-85bd-d6a06127e257",
   "metadata": {},
   "outputs": [
    {
     "data": {
      "text/plain": [
       "import scala.collection.mutable.Queue\n",
       "\n",
       "defined class State"
      ]
     },
     "execution_count": 4,
     "metadata": {},
     "output_type": "execute_result"
    }
   ],
   "source": [
    "import scala.collection.mutable.Queue\n",
    "case class State(ID: Int, Successor: Map[String, Int], endState: Boolean, keyword: Option[String] = None)"
   ]
  },
  {
   "cell_type": "markdown",
   "id": "7c07be51-b981-45a1-8214-9ead55a28eb2",
   "metadata": {},
   "source": [
    "## Step 2: Build the Trie\n",
    "The next step in the Aho-Corasick algorithm is constructing the Trie. For each keyword, we traverse the Trie, creating new states as needed, and linking them accordingly. The last state of each keyword will be marked as an 'end state' to signify the completion of a keyword.\n",
    "We will now define a function `buildGraph` to build the Trie from a list of keywords."
   ]
  },
  {
   "cell_type": "code",
   "execution_count": 2,
   "id": "45116417-57ec-4d9a-a011-ce1d095febac",
   "metadata": {},
   "outputs": [
    {
     "data": {
      "text/plain": [
       "defined function buildGraph"
      ]
     },
     "execution_count": 2,
     "metadata": {},
     "output_type": "execute_result"
    }
   ],
   "source": [
    "def buildGraph(keywords: List[String]): Map[Int, State] = {\n",
    "  var nextID = 0\n",
    "  var states = Map[Int, State](nextID -> State(nextID, Map(), endState = false)) // Root state\n",
    "\n",
    "  for (keyword <- keywords) {\n",
    "    var currentStateID = 0 // Start at the root state\n",
    "\n",
    "    for (char <- keyword) {\n",
    "      val currentState = states(currentStateID)\n",
    "\n",
    "      // Check if there's already a state for this character, else create a new state\n",
    "      val nextStateID = currentState.Successor.getOrElse(char.toString, {\n",
    "        nextID += 1\n",
    "        nextID\n",
    "      })\n",
    "\n",
    "      // Update the current state to include the new successor\n",
    "      states = states.updated(currentStateID, currentState.copy(Successor = currentState.Successor + (char.toString -> nextStateID)))\n",
    "\n",
    "      // Add the new state if it doesn't exist\n",
    "      if (!states.contains(nextStateID)) {\n",
    "        states += nextStateID -> State(nextStateID, Map(), endState = false)\n",
    "      }\n",
    "\n",
    "      // Move to the next state\n",
    "      currentStateID = nextStateID\n",
    "    }\n",
    "\n",
    "    // Mark the last state of the keyword as an end state\n",
    "    val finalState = states(currentStateID)\n",
    "    states += currentStateID -> finalState.copy(endState = true, keyword = Some(keyword))  }\n",
    "\n",
    "  states\n",
    "}"
   ]
  },
  {
   "cell_type": "markdown",
   "id": "918e8be7-263c-420c-bc45-d1bdbb3c082b",
   "metadata": {},
   "source": [
    "## Step 3: Visualize the Trie\n",
    "To better understand the structure of our Trie, we can visualize it. The following function `printGraph` will display each state and its successors, as well as whether it is an end state and which keyword it represents (if applicable)."
   ]
  },
  {
   "cell_type": "code",
   "execution_count": 3,
   "id": "ebac593c-1bcb-4467-bec0-a6385cdeb50d",
   "metadata": {},
   "outputs": [
    {
     "name": "stdout",
     "output_type": "stream",
     "text": [
      "State 0: Successors = Map(h -> 1, s -> 5), End State = false\n",
      "State 5: Successors = Map(h -> 6), End State = false\n",
      "State 1: Successors = Map(e -> 2, i -> 8), End State = false\n",
      "State 6: Successors = Map(e -> 7), End State = false\n",
      "State 9: Successors = Map(), End State = true, Keyword = his\n",
      "State 2: Successors = Map(r -> 3), End State = false\n",
      "State 7: Successors = Map(), End State = true, Keyword = she\n",
      "State 3: Successors = Map(s -> 4), End State = false\n",
      "State 8: Successors = Map(s -> 9), End State = false\n",
      "State 4: Successors = Map(), End State = true, Keyword = hers\n"
     ]
    },
    {
     "data": {
      "text/plain": [
       "defined function printGraph"
      ]
     },
     "execution_count": 3,
     "metadata": {},
     "output_type": "execute_result"
    }
   ],
   "source": [
    "def printGraph(states: Map[Int, State]): Unit = {\n",
    "  states.foreach { case (id, state) =>\n",
    "    val keywordStr = state.keyword match {\n",
    "      case Some(kw) => s\", Keyword = $kw\"\n",
    "      case None => \"\"\n",
    "    }\n",
    "    println(s\"State $id: Successors = ${state.Successor}, End State = ${state.endState}$keywordStr\")\n",
    "  }\n",
    "\n",
    "var keywords = List(\"hers\", \"she\", \"his\")\n",
    "printGraph(buildGraph(keywords))"
   ]
  },
  {
   "cell_type": "markdown",
   "id": "832808f9-98f9-4556-a01b-9217be496b56",
   "metadata": {},
   "source": [
    "## Step 4: Compute Failure Links\n",
    "Now we need to compute the failure links, which will allow the algorithm to jump to the next possible state when a mismatch occurs. The failure link for a state is a pointer to another state that might lead to a match.\n",
    "We will now define the `computeFail` function to compute these failure links for all states."
   ]
  },
  {
   "cell_type": "code",
   "execution_count": 6,
   "id": "6b28b241-c91a-4aeb-8359-b36fdfd1a242",
   "metadata": {},
   "outputs": [
    {
     "data": {
      "text/plain": [
       "defined function computeFail"
      ]
     },
     "execution_count": 6,
     "metadata": {},
     "output_type": "execute_result"
    }
   ],
   "source": [
    "def computeFail(states: Map[Int, State]): Map[Int, Int] = {\n",
    "  var fail = Map[Int, Int]()\n",
    "  val queue = Queue[Int]()\n",
    "\n",
    "  // Set fail link for each state\n",
    "  states.filter(_._1 != 0).foreach { case (stateID, state) =>\n",
    "    fail += stateID -> 0 // Root's fail link is always 0\n",
    "    queue.enqueue(stateID)\n",
    "  }\n",
    "\n",
    "  while (queue.nonEmpty) {\n",
    "    val currentStateID = queue.dequeue()\n",
    "    val currentState = states(currentStateID)\n",
    "\n",
    "    currentState.Successor.foreach { case (char, nextStateID) =>\n",
    "      val failStateID = fail(currentStateID)\n",
    "      var failState = states(failStateID)\n",
    "      while (!failState.Successor.contains(char) && failStateID != 0) {\n",
    "        failState = states(failStateID)\n",
    "        failStateID = fail(failStateID)\n",
    "      }\n",
    "      if (failStateID != 0) {\n",
    "        fail += nextStateID -> failStateID\n",
    "      } else {\n",
    "        fail += nextStateID -> 0\n",
    "      }\n",
    "      queue.enqueue(nextStateID)\n",
    "    }\n",
    "  }\n",
    "\n",
    "  fail\n",
    "}"
   ]
  },
  {
   "cell_type": "markdown",
   "id": "6a23d563-d272-400a-a97f-b47709866da7",
   "metadata": {},
   "source": [
    "## Step 5: Search the Text\n",
    "Now that we have built the Trie and computed the failure links, the final step is to search the input text. We will implement a function `search` that takes the text and the list of failure links, and returns all the matched keywords found in the text."
   ]
  },
  {
   "cell_type": "code",
   "execution_count": 7,
   "id": "4f8f3fe5-7a72-47b1-8b93-d20f92ed6e85",
   "metadata": {},
   "outputs": [
    {
     "data": {
      "text/plain": [
       "defined function search"
      ]
     },
     "execution_count": 7,
     "metadata": {},
     "output_type": "execute_result"
    }
   ],
   "source": [
    "def search(text: String, states: Map[Int, State], fail: Map[Int, Int]): List[String] = {\n",
    "  var currentStateID = 0\n",
    "  var result = List[String]()\n",
    "\n",
    "  for (char <- text) {\n",
    "    // Follow the successor link for the character\n",
    "    while (!states(currentStateID).Successor.contains(char.toString) && currentStateID != 0) {\n",
    "      currentStateID = fail(currentStateID)\n",
    "    }\n",
    "    currentStateID = states(currentStateID).Successor.getOrElse(char.toString, 0)\n",
    "\n",
    "    // If we're at an end state, add the keyword to the result\n",
    "    var tempStateID = currentStateID\n",
    "    while (tempStateID != 0) {\n",
    "      val currentState = states(tempStateID)\n",
    "      if (currentState.endState) {\n",
    "        result = currentState.keyword.get :: result\n",
    "      }\n",
    "      tempStateID = fail(tempStateID)\n",
    "    }\n",
    "\n",
    "  }\n",
    "  result.reverse\n",
    "}"
   ]
  },
  {
   "cell_type": "markdown",
   "id": "57329f1b-dfd1-4c1f-a8ff-4c1e920564e5",
   "metadata": {},
   "source": [
    "## Step 6: Test the Algorithm\n",
    "Now that we've implemented all the components, we can test the Aho-Corasick algorithm. We'll run it on a sample text and a list of keywords."
   ]
  },
  {
   "cell_type": "code",
   "execution_count": 8,
   "id": "39544f9f-e3f7-46e7-905b-78b3b24135ae",
   "metadata": {},
   "outputs": [
    {
     "data": {
      "text/plain": [
       "defined function testAhoCorasick"
      ]
     },
     "execution_count": 8,
     "metadata": {},
     "output_type": "execute_result"
    }
   ],
   "source": [
    "def testAhoCorasick(): Unit = {\n",
    "  val keywords = List(\"hers\", \"she\", \"his\")\n",
    "  val text = \"ushers\"\n",
    "\n",
    "  val states = buildGraph(keywords)\n",
    "  val fail = computeFail(states)\n",
    "  val result = search(text, states, fail)\n",
    "\n",
    "  println(s\"Matched Keywords: ${result.mkString(\", \")}\")\n",
    "}\n",
    "\n",
    "testAhoCorasick()"
   ]
  },
  {
   "cell_type": "markdown",
   "id": "49504b98-48ba-4097-b5be-4e010f5cbdbb",
   "metadata": {},
   "source": [
    "## Conclusion\n",
    "The Aho-Corasick algorithm efficiently searches for multiple keywords in a given text. By building a Trie and computing failure links, we can ensure that we do not need to start from the beginning each time a mismatch occurs. This results in faster searches, especially when dealing with large datasets.\n",
    "We have implemented the algorithm step-by-step and tested it with sample data."
   ]
  }
 ],
 "metadata": {
  "kernelspec": {
   "display_name": "Scala",
   "language": "scala",
   "name": "scala"
  },
  "language_info": {
   "codemirror_mode": {
    "name": "scala",
    "version": "2"
   },
   "file_extension": ".scala",
   "mimetype": "text/x-scala",
   "name": "scala",
   "nbconvert_exporter": "python",
   "version": "2.13"
  }
 },
 "nbformat": 4,
 "nbformat_minor": 5
}
