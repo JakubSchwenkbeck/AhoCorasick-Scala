{
 "cells": [
  {
   "cell_type": "markdown",
   "id": "59de4543-9105-4e1e-92fd-61202522acde",
   "metadata": {},
   "source": [
    "\n",
    "# Aho-Corasick Algorithm for Pattern Matching\n",
    "The Aho-Corasick algorithm is a classical search algorithm that builds an Aho-Corasick trie (or finite state machine) and efficiently searches for multiple patterns in a text. It combines two key features:\n",
    "\n",
    "## Trie Construction: We build a tree structure of all the keywords.\n",
    "## Failure Links: Failure links ensure that when a match fails at a particular node, we can efficiently \"fall back\" to a previous state that might match the input.\n",
    "\n",
    "We’ll begin by defining the key structures and then implement the Aho-Corasick algorithm.\n",
    "\n",
    "### Step 1: Define the State Case Class\n",
    "In the Aho-Corasick algorithm, each state represents a node in the trie. A state has:\n",
    "- ID: Unique identifier for the state.\n",
    "- Successors: A map of input characters leading to the next state.\n",
    "- EndState: A boolean flag to mark if this state corresponds to the end of a keyword.\n",
    "- Keyword: An optional field to store the keyword if this is an end state."
   ]
  },
  {
   "cell_type": "code",
   "execution_count": 1,
   "id": "273354f0-5ee5-4c94-85bd-d6a06127e257",
   "metadata": {},
   "outputs": [
    {
     "data": {
      "text/plain": [
       "\u001b[32mimport \u001b[39m\u001b[36mscala.collection.mutable.Queue\n",
       "\u001b[39m\n",
       "defined \u001b[32mclass\u001b[39m \u001b[36mState\u001b[39m"
      ]
     },
     "execution_count": 1,
     "metadata": {},
     "output_type": "execute_result"
    }
   ],
   "source": [
    "import scala.collection.mutable.Queue\n",
    "case class State(ID: Int, Successor: Map[String, Int], endState: Boolean, keyword: Option[String] = None)\n"
   ]
  },
  {
   "cell_type": "markdown",
   "id": "fc5eea7a-fb15-4f89-9e83-881f73cabf9a",
   "metadata": {},
   "source": [
    "### Step 2: Build the Trie on basis of the keywords\n",
    "The heart of the Aho-Corasick algorithm is the Trie, which is the key to be able to run a Finite State Machine over the inputs. We need to build a path for each keyword respecting the links between them aswell as the endstates and inputs"
   ]
  },
  {
   "cell_type": "code",
   "execution_count": 2,
   "id": "45116417-57ec-4d9a-a011-ce1d095febac",
   "metadata": {},
   "outputs": [
    {
     "data": {
      "text/plain": [
       "defined \u001b[32mfunction\u001b[39m \u001b[36mbuildGraph\u001b[39m"
      ]
     },
     "execution_count": 2,
     "metadata": {},
     "output_type": "execute_result"
    }
   ],
   "source": [
    "\n",
    "def buildGraph(keywords: List[String]): Map[Int, State] = {\n",
    "  var nextID = 0\n",
    "  var states = Map[Int, State](nextID -> State(nextID, Map(), endState = false)) // Root state\n",
    "\n",
    "  for (keyword <- keywords) {\n",
    "    var currentStateID = 0 // Start at the root state\n",
    "\n",
    "    for (char <- keyword) {\n",
    "      val currentState = states(currentStateID)\n",
    "\n",
    "      // Check if there's already a state for this character, else create a new state\n",
    "      val nextStateID = currentState.Successor.getOrElse(char.toString, {\n",
    "        nextID += 1\n",
    "        nextID\n",
    "      })\n",
    "\n",
    "      // Update the current state to include the new successor\n",
    "      states = states.updated(currentStateID, currentState.copy(Successor = currentState.Successor + (char.toString -> nextStateID)))\n",
    "\n",
    "      // Add the new state if it doesn't exist\n",
    "      if (!states.contains(nextStateID)) {\n",
    "        states += nextStateID -> State(nextStateID, Map(), endState = false)\n",
    "      }\n",
    "\n",
    "      // Move to the next state\n",
    "      currentStateID = nextStateID\n",
    "    }\n",
    "\n",
    "    // Mark the last state of the keyword as an end state\n",
    "    val finalState = states(currentStateID)\n",
    "    states += currentStateID -> finalState.copy(endState = true, keyword = Some(keyword))  }\n",
    "\n",
    "  states\n",
    "}"
   ]
  },
  {
   "cell_type": "markdown",
   "id": "7c07be51-b981-45a1-8214-9ead55a28eb2",
   "metadata": {},
   "source": [
    "To run examples, a print function would be nice : "
   ]
  },
  {
   "cell_type": "code",
   "execution_count": 3,
   "id": "ebac593c-1bcb-4467-bec0-a6385cdeb50d",
   "metadata": {},
   "outputs": [
    {
     "name": "stdout",
     "output_type": "stream",
     "text": [
      "State 0: Successors = Map(h -> 1, s -> 5), End State = false\n",
      "State 5: Successors = Map(h -> 6), End State = false\n",
      "State 1: Successors = Map(e -> 2, i -> 8), End State = false\n",
      "State 6: Successors = Map(e -> 7), End State = false\n",
      "State 9: Successors = Map(), End State = true, Keyword = his\n",
      "State 2: Successors = Map(r -> 3), End State = false\n",
      "State 7: Successors = Map(), End State = true, Keyword = she\n",
      "State 3: Successors = Map(s -> 4), End State = false\n",
      "State 8: Successors = Map(s -> 9), End State = false\n",
      "State 4: Successors = Map(), End State = true, Keyword = hers\n"
     ]
    },
    {
     "data": {
      "text/plain": [
       "defined \u001b[32mfunction\u001b[39m \u001b[36mprintGraph\u001b[39m\n",
       "\u001b[36mkeywords\u001b[39m: \u001b[32mList\u001b[39m[\u001b[32mString\u001b[39m] = \u001b[33mList\u001b[39m(\u001b[32m\"hers\"\u001b[39m, \u001b[32m\"she\"\u001b[39m, \u001b[32m\"his\"\u001b[39m)"
      ]
     },
     "execution_count": 3,
     "metadata": {},
     "output_type": "execute_result"
    }
   ],
   "source": [
    "def printGraph(states: Map[Int, State]): Unit = {\n",
    "  states.foreach { case (id, state) =>\n",
    "    val keywordStr = state.keyword match {\n",
    "      case Some(kw) => s\", Keyword = $kw\"\n",
    "      case None => \"\"\n",
    "    }\n",
    "    println(s\"State $id: Successors = ${state.Successor}, End State = ${state.endState}$keywordStr\")\n",
    "  }\n",
    "}\n",
    "\n",
    "var keywords = List(\"hers\", \"she\", \"his\")\n",
    "printGraph(buildGraph(keywords))"
   ]
  },
  {
   "cell_type": "markdown",
   "id": "918e8be7-263c-420c-bc45-d1bdbb3c082b",
   "metadata": {},
   "source": [
    "Further, We need to implement a Failure function!"
   ]
  },
  {
   "cell_type": "code",
   "execution_count": 4,
   "id": "dac8599a-5cfe-4a21-a893-7a0ff1c0d25f",
   "metadata": {},
   "outputs": [
    {
     "data": {
      "text/plain": [
       "defined \u001b[32mfunction\u001b[39m \u001b[36mcomputeFail\u001b[39m"
      ]
     },
     "execution_count": 4,
     "metadata": {},
     "output_type": "execute_result"
    }
   ],
   "source": [
    "\n",
    "def computeFail( states: Map[Int, State]): Map[Int, Int] = {\n",
    "  // Initialize fail function, setting all states to fail to root (state 0)\n",
    "  var fail = Map[Int, Int]().withDefaultValue(0)\n",
    "  val queue = scala.collection.mutable.Queue[Int]() // Using queue as suggested in the aho - corsick paper\n",
    "\n",
    "  // Set failure links for root's direct successors\n",
    "  for ((input, stateID) <- states(0).Successor) {\n",
    "    fail += stateID -> 0 // direct successors of root point back to root!\n",
    "    queue.enqueue(stateID)\n",
    "  }\n",
    "\n",
    "\n",
    "  // Breadth First Search : -----------------\n",
    "\n",
    "\n",
    "  // BFS to compute failure links\n",
    "  while (queue.nonEmpty) {\n",
    "    val currentStateID = queue.dequeue()\n",
    "    val currentState = states(currentStateID)\n",
    "\n",
    "    // For each input and its successor state\n",
    "    for ((input, successorID) <- currentState.Successor) {\n",
    "      queue.enqueue(successorID)\n",
    "\n",
    "      // Find the fail link for the current state\n",
    "      var fallbackID = fail(currentStateID)\n",
    "      while (fallbackID != 0 && !states(fallbackID).Successor.contains(input)) {\n",
    "        fallbackID = fail(fallbackID)\n",
    "      }\n",
    "\n",
    "\n",
    "      // Update the fail link of the successor\n",
    "      val fallbackSuccessorID = states(fallbackID).Successor.getOrElse(input, 0)\n",
    "      fail += successorID -> fallbackSuccessorID\n",
    "\n",
    "    }\n",
    "  }\n",
    "\n",
    "  fail\n",
    "}"
   ]
  },
  {
   "cell_type": "markdown",
   "id": "832808f9-98f9-4556-a01b-9217be496b56",
   "metadata": {},
   "source": [
    "Now FSM"
   ]
  },
  {
   "cell_type": "code",
   "execution_count": 5,
   "id": "1a9b1a04-e892-482a-85b3-c156d067bc7a",
   "metadata": {},
   "outputs": [
    {
     "data": {
      "text/plain": [
       "defined \u001b[32mclass\u001b[39m \u001b[36mFiniteStateMachine\u001b[39m"
      ]
     },
     "execution_count": 5,
     "metadata": {},
     "output_type": "execute_result"
    }
   ],
   "source": [
    "class FiniteStateMachine(SearchText: String, Keywords: List[String]) {\n",
    "\n",
    "  private val states: Map[Int, State] = buildGraph(Keywords)\n",
    "  private val text: String = SearchText\n",
    "  private var keywords: List[String] = Keywords\n",
    "  private val fails : Map[Int,Int] = computeFail(states)\n",
    "\n",
    "  private var currentStateID: Int = 0 // Starting state is always 0\n",
    "\n",
    "  def getCurrentStateID: Int = currentStateID // Simple getter for the current state ID\n",
    "\n",
    "  /**\n",
    "   * Perform pattern matching on the search text.\n",
    "   * Returns a list of pairs with the index of the last character of a keyword and the keyword itself.\n",
    "   */\n",
    "  def PMM(): List[(Int, String)] = {\n",
    "    var Output: List[(Int, String)] = List()\n",
    "    if (text.nonEmpty && keywords.nonEmpty) {\n",
    "      var charPos: Int = 0\n",
    "      for (index <- 0 until text.length) {\n",
    "        charPos += 1\n",
    "        val gotoOutput: Int = goto(text.charAt(index).toString)\n",
    "\n",
    "        if (gotoOutput == -1) {\n",
    "          currentStateID = fail(currentStateID)\n",
    "        } else {\n",
    "          currentStateID = gotoOutput\n",
    "          val currentStateOpt: Option[State] = states.get(currentStateID)\n",
    "          currentStateOpt match {\n",
    "            case Some(currentState) => if (currentState.endState) {\n",
    "              Output = Output :+ (charPos, currentState.keyword.get)\n",
    "            }\n",
    "            case None => throw Exception(s\"This State ID: $currentStateID does not exist!\")\n",
    "          }\n",
    "        }\n",
    "      }\n",
    "    }\n",
    "    Output\n",
    "  }\n",
    "\n",
    "  /**\n",
    "   * GoTo function: takes an input and moves in the FSM.\n",
    "   */\n",
    "  private def goto(input: String): Int = {\n",
    "    val currentStateOpt: Option[State] = states.get(currentStateID)\n",
    "    currentStateOpt match {\n",
    "      case Some(currentState) =>\n",
    "        currentState.Successor.get(input) match {\n",
    "          case Some(nextStateID) => nextStateID\n",
    "          case None => if (currentStateID == 0) 0 else -1\n",
    "        }\n",
    "      case None => throw Exception(s\"This State ID: $currentStateID does not exist!\")\n",
    "    }\n",
    "  }\n",
    "\n",
    "  /**\n",
    "   * Fail function: returns the fail link for the current state.\n",
    "   */\n",
    "  def fail(stateID: Int): Int = fails(stateID)\n",
    "\n",
    "}\n"
   ]
  },
  {
   "cell_type": "markdown",
   "id": "a5d6f10e-85df-4991-af1b-4637a7366444",
   "metadata": {},
   "source": [
    "Run Example:"
   ]
  },
  {
   "cell_type": "code",
   "execution_count": 8,
   "id": "558a5a62-b035-49e0-b321-4d14ecca8e15",
   "metadata": {},
   "outputs": [
    {
     "name": "stdout",
     "output_type": "stream",
     "text": [
      "List((5,Scala), (33,OOP))\n"
     ]
    },
    {
     "data": {
      "text/plain": [
       "\u001b[36mfsm\u001b[39m: \u001b[32mFiniteStateMachine\u001b[39m = ammonite.$sess.cmd5$Helper$FiniteStateMachine@40c1449d\n",
       "\u001b[36mresult\u001b[39m: \u001b[32mList\u001b[39m[(\u001b[32mInt\u001b[39m, \u001b[32mString\u001b[39m)] = \u001b[33mList\u001b[39m((\u001b[32m5\u001b[39m, \u001b[32m\"Scala\"\u001b[39m), (\u001b[32m33\u001b[39m, \u001b[32m\"OOP\"\u001b[39m))"
      ]
     },
     "execution_count": 8,
     "metadata": {},
     "output_type": "execute_result"
    }
   ],
   "source": [
    "val fsm = new FiniteStateMachine(\"Scala is a great function and OOP language!\", List(\"Scala\", \"functional\", \"OOP\"))\n",
    "val result = fsm.PMM()\n",
    "println(result) ",
    "\n"
   ]
  }
 ],
 "metadata": {
  "kernelspec": {
   "display_name": "Scala",
   "language": "scala",
   "name": "scala"
  },
  "language_info": {
   "codemirror_mode": "text/x-scala",
   "file_extension": ".sc",
   "mimetype": "text/x-scala",
   "name": "scala",
   "nbconvert_exporter": "script",
   "version": "2.13.14"
  }
 },
 "nbformat": 4,
 "nbformat_minor": 5
}
